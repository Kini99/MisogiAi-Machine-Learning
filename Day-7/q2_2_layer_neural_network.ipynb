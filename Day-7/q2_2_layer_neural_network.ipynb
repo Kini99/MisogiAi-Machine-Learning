{
 "cells": [
  {
   "cell_type": "code",
   "execution_count": 1,
   "id": "9e93b816",
   "metadata": {},
   "outputs": [
    {
     "name": "stdout",
     "output_type": "stream",
     "text": [
      "Inputs: [-0.7, 0.21, 0.58]\n",
      "Hidden layer weights: [[0.41, 0.32, 0.45], [-0.02, -0.13, -0.59]]\n",
      "Hidden layer biases: [0.56, 0.68]\n",
      "Hidden outputs: [0.646, 0.58]\n",
      "Output layer weights: [0.24, 0.3]\n",
      "Bias: 0.08\n",
      "Final Output: 0.601\n"
     ]
    }
   ],
   "source": [
    "import random\n",
    "import math\n",
    "\n",
    "# Sigmoid activation function\n",
    "def sigmoid(z):\n",
    "    return 1 / (1 + math.exp(-z))\n",
    "\n",
    "# Generate random input values\n",
    "inputs = [round(random.uniform(-1, 1), 2) for _ in range(3)]\n",
    "\n",
    "# Generate random weights and biases for hidden layer (2 neurons)\n",
    "hidden_weights = [[round(random.uniform(-1, 1), 2) for _ in range(3)] for _ in range(2)]\n",
    "hidden_biases = [round(random.uniform(-1, 1), 2) for _ in range(2)]\n",
    "\n",
    "# Compute outputs for hidden layer\n",
    "hidden_outputs = []\n",
    "for i in range(2):\n",
    "    z = sum(inputs[j] * hidden_weights[i][j] for j in range(3)) + hidden_biases[i]\n",
    "    a = round(sigmoid(z), 3)\n",
    "    hidden_outputs.append(a)\n",
    "\n",
    "# Generate random weights and bias for output layer\n",
    "output_weights = [round(random.uniform(-1, 1), 2) for _ in range(2)]\n",
    "output_bias = round(random.uniform(-1, 1), 2)\n",
    "\n",
    "# Compute final output\n",
    "z_out = sum(hidden_outputs[i] * output_weights[i] for i in range(2)) + output_bias\n",
    "final_output = round(sigmoid(z_out), 3)\n",
    "\n",
    "# Print everything\n",
    "print(\"Inputs:\", inputs)\n",
    "print(\"Hidden layer weights:\", hidden_weights)\n",
    "print(\"Hidden layer biases:\", hidden_biases)\n",
    "print(\"Hidden outputs:\", hidden_outputs)\n",
    "print(\"Output layer weights:\", output_weights)\n",
    "print(\"Bias:\", output_bias)\n",
    "print(\"Final Output:\", final_output)\n"
   ]
  }
 ],
 "metadata": {
  "kernelspec": {
   "display_name": "Python 3",
   "language": "python",
   "name": "python3"
  },
  "language_info": {
   "codemirror_mode": {
    "name": "ipython",
    "version": 3
   },
   "file_extension": ".py",
   "mimetype": "text/x-python",
   "name": "python",
   "nbconvert_exporter": "python",
   "pygments_lexer": "ipython3",
   "version": "3.11.9"
  }
 },
 "nbformat": 4,
 "nbformat_minor": 5
}
