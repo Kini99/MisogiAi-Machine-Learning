{
 "cells": [
  {
   "cell_type": "code",
   "execution_count": null,
   "id": "6dfdb16c",
   "metadata": {},
   "outputs": [
    {
     "name": "stdout",
     "output_type": "stream",
     "text": [
      "Neuron output: 0.891\n"
     ]
    }
   ],
   "source": [
    "import math\n",
    "\n",
    "# Sigmoid activation function\n",
    "def sigmoid(z):\n",
    "    return 1 / (1 + math.exp(-z))\n",
    "\n",
    "# Get input values\n",
    "x1, x2 = map(float, input(\"Enter x1 x2: \").split())\n",
    "w1, w2 = map(float, input(\"Enter w1 w2: \").split())\n",
    "b = float(input(\"Enter bias: \"))\n",
    "\n",
    "# Calculate z\n",
    "z = x1 * w1 + x2 * w2 + b\n",
    "\n",
    "# Calculate output using sigmoid\n",
    "output = sigmoid(z)\n",
    "\n",
    "# Print result rounded to 3 decimal places\n",
    "print(f\"Neuron output: {round(output, 3)}\")\n",
    "\n",
    "# Test Run \n",
    "# Enter x1, x2: 1.0 2.0\n",
    "# Enter w1, w2: 0.4 0.6\n",
    "# Enter bias: 0.5\n",
    "# Neuron output: 0.891"
   ]
  }
 ],
 "metadata": {
  "kernelspec": {
   "display_name": "Python 3",
   "language": "python",
   "name": "python3"
  },
  "language_info": {
   "codemirror_mode": {
    "name": "ipython",
    "version": 3
   },
   "file_extension": ".py",
   "mimetype": "text/x-python",
   "name": "python",
   "nbconvert_exporter": "python",
   "pygments_lexer": "ipython3",
   "version": "3.11.9"
  }
 },
 "nbformat": 4,
 "nbformat_minor": 5
}
