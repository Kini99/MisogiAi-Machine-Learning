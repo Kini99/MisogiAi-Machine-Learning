{
 "cells": [
  {
   "cell_type": "code",
   "execution_count": null,
   "id": "40217226",
   "metadata": {},
   "outputs": [
    {
     "name": "stdout",
     "output_type": "stream",
     "text": [
      "\n",
      "Inputs: [-0.62, -0.78, 0.63]\n",
      "Hidden layer weights: [[0.87, -0.96, -0.42], [0.99, 0.54, 0.26]]\n",
      "Hidden biases: [-0.0, -0.24]\n",
      "Hidden outputs (RELU): [0, 0]\n",
      "Output layer weights: [0.0, 0.77]\n",
      "Bias: -0.02\n",
      "Final Output: -0.02\n"
     ]
    }
   ],
   "source": [
    "import random\n",
    "import math\n",
    "\n",
    "# Activation functions\n",
    "def sigmoid(z):\n",
    "    return 1 / (1 + math.exp(-z))\n",
    "\n",
    "def relu(z):\n",
    "    return max(0, z)\n",
    "\n",
    "# Get user input\n",
    "n = int(input(\"Enter number of inputs: \"))\n",
    "h = int(input(\"Enter number of hidden neurons: \"))\n",
    "activation_choice = input(\"Enter activation (sigmoid/relu): \").strip().lower()\n",
    "\n",
    "# Choose activation function\n",
    "if activation_choice == \"sigmoid\":\n",
    "    activation_fn = sigmoid\n",
    "elif activation_choice == \"relu\":\n",
    "    activation_fn = relu\n",
    "else:\n",
    "    raise ValueError(\"Invalid activation. Choose 'sigmoid' or 'relu'.\")\n",
    "\n",
    "# Generate random inputs\n",
    "inputs = [round(random.uniform(-1, 1), 2) for _ in range(n)]\n",
    "\n",
    "# Generate weights and biases for hidden layer\n",
    "hidden_weights = [\n",
    "    [round(random.uniform(-1, 1), 2) for _ in range(n)] for _ in range(h)\n",
    "]\n",
    "hidden_biases = [round(random.uniform(-1, 1), 2) for _ in range(h)]\n",
    "\n",
    "# Calculate hidden layer outputs\n",
    "hidden_outputs = []\n",
    "for i in range(h):\n",
    "    z = sum(inputs[j] * hidden_weights[i][j] for j in range(n)) + hidden_biases[i]\n",
    "    a = round(activation_fn(z), 3)\n",
    "    hidden_outputs.append(a)\n",
    "\n",
    "# Output layer (1 neuron): h weights + 1 bias\n",
    "output_weights = [round(random.uniform(-1, 1), 2) for _ in range(h)]\n",
    "output_bias = round(random.uniform(-1, 1), 2)\n",
    "\n",
    "# Compute final output (no activation on output)\n",
    "z_out = sum(hidden_outputs[i] * output_weights[i] for i in range(h)) + output_bias\n",
    "final_output = round(z_out, 3)\n",
    "\n",
    "# Print all values\n",
    "print(\"\\nInputs:\", inputs)\n",
    "print(\"Hidden layer weights:\", hidden_weights)\n",
    "print(\"Hidden biases:\", hidden_biases)\n",
    "print(f\"Hidden outputs ({activation_choice.upper()}):\", hidden_outputs)\n",
    "print(\"Output layer weights:\", output_weights)\n",
    "print(\"Bias:\", output_bias)\n",
    "print(\"Final Output:\", final_output)\n",
    "\n",
    "\n"
   ]
  }
 ],
 "metadata": {
  "kernelspec": {
   "display_name": "Python 3",
   "language": "python",
   "name": "python3"
  },
  "language_info": {
   "codemirror_mode": {
    "name": "ipython",
    "version": 3
   },
   "file_extension": ".py",
   "mimetype": "text/x-python",
   "name": "python",
   "nbconvert_exporter": "python",
   "pygments_lexer": "ipython3",
   "version": "3.11.9"
  }
 },
 "nbformat": 4,
 "nbformat_minor": 5
}
