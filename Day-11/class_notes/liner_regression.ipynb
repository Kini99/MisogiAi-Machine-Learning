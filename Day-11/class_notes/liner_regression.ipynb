{
 "cells": [
  {
   "cell_type": "code",
   "execution_count": 5,
   "id": "db7421d4",
   "metadata": {},
   "outputs": [],
   "source": [
    "import time\n",
    "from sklearn.linear_model import LinearRegression\n",
    "from sklearn.datasets import make_regression\n",
    "import pandas as pd\n",
    "import seaborn as sns\n",
    "import numpy as np\n",
    "from tqdm import tqdm\n",
    "\n",
    "def normal_equation(X,y):\n",
    "    return np.linalg.inv(X.T @ X) @ X.T @ y"
   ]
  },
  {
   "cell_type": "code",
   "execution_count": 6,
   "id": "08f3775c",
   "metadata": {},
   "outputs": [
    {
     "name": "stdout",
     "output_type": "stream",
     "text": [
      "0.0005145072937011719\n",
      "0.3001265525817871\n",
      "0.11756086349487305\n",
      "0.6162233352661133\n"
     ]
    }
   ],
   "source": [
    "results = []\n",
    "for n in (10,100,500,1000): # increase in features increases time\n",
    "    X,y = make_regression(n_samples=5000, n_features=n, noise=0.1)\n",
    "    \n",
    "    # Start time\n",
    "    start = time.time()\n",
    "    theta = normal_equation(X,y)\n",
    "    end = time.time()\n",
    "    theta\n",
    "    print(end-start)"
   ]
  }
 ],
 "metadata": {
  "kernelspec": {
   "display_name": ".venv",
   "language": "python",
   "name": "python3"
  },
  "language_info": {
   "codemirror_mode": {
    "name": "ipython",
    "version": 3
   },
   "file_extension": ".py",
   "mimetype": "text/x-python",
   "name": "python",
   "nbconvert_exporter": "python",
   "pygments_lexer": "ipython3",
   "version": "3.11.9"
  }
 },
 "nbformat": 4,
 "nbformat_minor": 5
}
