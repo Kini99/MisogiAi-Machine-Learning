{
 "cells": [
  {
   "cell_type": "markdown",
   "id": "da5bba5d",
   "metadata": {},
   "source": [
    "# ===================================================== PART A =================================================="
   ]
  },
  {
   "cell_type": "code",
   "execution_count": null,
   "id": "ba7db9ac",
   "metadata": {},
   "outputs": [
    {
     "data": {
      "text/html": [
       "<div>\n",
       "<style scoped>\n",
       "    .dataframe tbody tr th:only-of-type {\n",
       "        vertical-align: middle;\n",
       "    }\n",
       "\n",
       "    .dataframe tbody tr th {\n",
       "        vertical-align: top;\n",
       "    }\n",
       "\n",
       "    .dataframe thead th {\n",
       "        text-align: right;\n",
       "    }\n",
       "</style>\n",
       "<table border=\"1\" class=\"dataframe\">\n",
       "  <thead>\n",
       "    <tr style=\"text-align: right;\">\n",
       "      <th></th>\n",
       "      <th>Unnamed: 0</th>\n",
       "      <th>Id</th>\n",
       "      <th>MSSubClass</th>\n",
       "      <th>MSZoning</th>\n",
       "      <th>LotFrontage</th>\n",
       "      <th>LotArea</th>\n",
       "      <th>Street</th>\n",
       "      <th>LotShape</th>\n",
       "      <th>LandContour</th>\n",
       "      <th>Utilities</th>\n",
       "      <th>...</th>\n",
       "      <th>ScreenPorch</th>\n",
       "      <th>PoolArea</th>\n",
       "      <th>PoolQC</th>\n",
       "      <th>Fence</th>\n",
       "      <th>MiscFeature</th>\n",
       "      <th>MiscVal</th>\n",
       "      <th>MoSold</th>\n",
       "      <th>YrSold</th>\n",
       "      <th>SaleType</th>\n",
       "      <th>SaleCondition</th>\n",
       "    </tr>\n",
       "  </thead>\n",
       "  <tbody>\n",
       "    <tr>\n",
       "      <th>0</th>\n",
       "      <td>0</td>\n",
       "      <td>1461</td>\n",
       "      <td>20</td>\n",
       "      <td>RH</td>\n",
       "      <td>80.0</td>\n",
       "      <td>11622</td>\n",
       "      <td>Pave</td>\n",
       "      <td>Reg</td>\n",
       "      <td>Lvl</td>\n",
       "      <td>AllPub</td>\n",
       "      <td>...</td>\n",
       "      <td>120</td>\n",
       "      <td>0</td>\n",
       "      <td>NaN</td>\n",
       "      <td>MnPrv</td>\n",
       "      <td>NaN</td>\n",
       "      <td>0</td>\n",
       "      <td>6</td>\n",
       "      <td>2010</td>\n",
       "      <td>WD</td>\n",
       "      <td>Normal</td>\n",
       "    </tr>\n",
       "    <tr>\n",
       "      <th>1</th>\n",
       "      <td>1</td>\n",
       "      <td>1462</td>\n",
       "      <td>20</td>\n",
       "      <td>RL</td>\n",
       "      <td>81.0</td>\n",
       "      <td>14267</td>\n",
       "      <td>Pave</td>\n",
       "      <td>IR1</td>\n",
       "      <td>Lvl</td>\n",
       "      <td>AllPub</td>\n",
       "      <td>...</td>\n",
       "      <td>0</td>\n",
       "      <td>0</td>\n",
       "      <td>NaN</td>\n",
       "      <td>MnPrv</td>\n",
       "      <td>Gar2</td>\n",
       "      <td>12500</td>\n",
       "      <td>6</td>\n",
       "      <td>2010</td>\n",
       "      <td>WD</td>\n",
       "      <td>Normal</td>\n",
       "    </tr>\n",
       "    <tr>\n",
       "      <th>2</th>\n",
       "      <td>2</td>\n",
       "      <td>1463</td>\n",
       "      <td>60</td>\n",
       "      <td>RL</td>\n",
       "      <td>74.0</td>\n",
       "      <td>13830</td>\n",
       "      <td>Pave</td>\n",
       "      <td>IR1</td>\n",
       "      <td>Lvl</td>\n",
       "      <td>AllPub</td>\n",
       "      <td>...</td>\n",
       "      <td>0</td>\n",
       "      <td>0</td>\n",
       "      <td>NaN</td>\n",
       "      <td>MnPrv</td>\n",
       "      <td>Gar2</td>\n",
       "      <td>0</td>\n",
       "      <td>3</td>\n",
       "      <td>2010</td>\n",
       "      <td>WD</td>\n",
       "      <td>Normal</td>\n",
       "    </tr>\n",
       "    <tr>\n",
       "      <th>3</th>\n",
       "      <td>3</td>\n",
       "      <td>1464</td>\n",
       "      <td>60</td>\n",
       "      <td>RL</td>\n",
       "      <td>78.0</td>\n",
       "      <td>9978</td>\n",
       "      <td>Pave</td>\n",
       "      <td>IR1</td>\n",
       "      <td>Lvl</td>\n",
       "      <td>AllPub</td>\n",
       "      <td>...</td>\n",
       "      <td>0</td>\n",
       "      <td>0</td>\n",
       "      <td>NaN</td>\n",
       "      <td>MnPrv</td>\n",
       "      <td>Gar2</td>\n",
       "      <td>0</td>\n",
       "      <td>6</td>\n",
       "      <td>2010</td>\n",
       "      <td>WD</td>\n",
       "      <td>Normal</td>\n",
       "    </tr>\n",
       "    <tr>\n",
       "      <th>4</th>\n",
       "      <td>4</td>\n",
       "      <td>1465</td>\n",
       "      <td>120</td>\n",
       "      <td>RL</td>\n",
       "      <td>43.0</td>\n",
       "      <td>5005</td>\n",
       "      <td>Pave</td>\n",
       "      <td>IR1</td>\n",
       "      <td>HLS</td>\n",
       "      <td>AllPub</td>\n",
       "      <td>...</td>\n",
       "      <td>144</td>\n",
       "      <td>0</td>\n",
       "      <td>NaN</td>\n",
       "      <td>MnPrv</td>\n",
       "      <td>Gar2</td>\n",
       "      <td>0</td>\n",
       "      <td>1</td>\n",
       "      <td>2010</td>\n",
       "      <td>WD</td>\n",
       "      <td>Normal</td>\n",
       "    </tr>\n",
       "  </tbody>\n",
       "</table>\n",
       "<p>5 rows × 80 columns</p>\n",
       "</div>"
      ],
      "text/plain": [
       "   Unnamed: 0    Id  MSSubClass MSZoning  LotFrontage  LotArea Street  \\\n",
       "0           0  1461          20       RH         80.0    11622   Pave   \n",
       "1           1  1462          20       RL         81.0    14267   Pave   \n",
       "2           2  1463          60       RL         74.0    13830   Pave   \n",
       "3           3  1464          60       RL         78.0     9978   Pave   \n",
       "4           4  1465         120       RL         43.0     5005   Pave   \n",
       "\n",
       "  LotShape LandContour Utilities  ... ScreenPorch PoolArea PoolQC  Fence  \\\n",
       "0      Reg         Lvl    AllPub  ...         120        0    NaN  MnPrv   \n",
       "1      IR1         Lvl    AllPub  ...           0        0    NaN  MnPrv   \n",
       "2      IR1         Lvl    AllPub  ...           0        0    NaN  MnPrv   \n",
       "3      IR1         Lvl    AllPub  ...           0        0    NaN  MnPrv   \n",
       "4      IR1         HLS    AllPub  ...         144        0    NaN  MnPrv   \n",
       "\n",
       "  MiscFeature MiscVal MoSold  YrSold  SaleType  SaleCondition  \n",
       "0         NaN       0      6    2010        WD         Normal  \n",
       "1        Gar2   12500      6    2010        WD         Normal  \n",
       "2        Gar2       0      3    2010        WD         Normal  \n",
       "3        Gar2       0      6    2010        WD         Normal  \n",
       "4        Gar2       0      1    2010        WD         Normal  \n",
       "\n",
       "[5 rows x 80 columns]"
      ]
     },
     "execution_count": 1,
     "metadata": {},
     "output_type": "execute_result"
    }
   ],
   "source": [
    "# Load Dataset\n",
    "\n",
    "import pandas as pd\n",
    "import numpy as np\n",
    "import matplotlib.pyplot as plt\n",
    "import seaborn as sns\n",
    "from sklearn.model_selection import train_test_split\n",
    "from sklearn.linear_model import LinearRegression\n",
    "from sklearn.preprocessing import LabelEncoder\n",
    "from sklearn.metrics import mean_absolute_error, mean_squared_error, r2_score\n",
    "\n",
    "# Load the dataset\n",
    "df = pd.read_csv(\"train.csv\")\n",
    "\n",
    "# Display the first 5 rows\n",
    "df.head()\n"
   ]
  },
  {
   "cell_type": "code",
   "execution_count": 2,
   "id": "0a06f4b4",
   "metadata": {},
   "outputs": [
    {
     "name": "stdout",
     "output_type": "stream",
     "text": [
      "Categorical Columns:\n",
      "MSZoning: ['RH' 'RL' 'RM' 'FV' 'C (all)']...\n",
      "Street: ['Pave' 'Grvl']...\n",
      "LotShape: ['Reg' 'IR1' 'IR2' 'IR3']...\n",
      "LandContour: ['Lvl' 'HLS' 'Bnk' 'Low']...\n",
      "Utilities: ['AllPub']...\n",
      "LotConfig: ['Inside' 'Corner' 'FR2' 'CulDSac' 'FR3']...\n",
      "LandSlope: ['Gtl' 'Mod' 'Sev']...\n",
      "Neighborhood: ['NAmes' 'Gilbert' 'StoneBr' 'BrDale' 'NPkVill']...\n",
      "Condition1: ['Feedr' 'Norm' 'PosN' 'RRNe' 'Artery']...\n",
      "Condition2: ['Norm' 'Feedr' 'PosA' 'PosN' 'Artery']...\n",
      "BldgType: ['1Fam' 'TwnhsE' 'Twnhs' 'Duplex' '2fmCon']...\n",
      "HouseStyle: ['1Story' '2Story' 'SLvl' '1.5Fin' 'SFoyer']...\n",
      "RoofStyle: ['Gable' 'Hip' 'Gambrel' 'Flat' 'Mansard']...\n",
      "RoofMatl: ['CompShg' 'Tar&Grv' 'WdShake' 'WdShngl']...\n",
      "Exterior1st: ['VinylSd' 'Wd Sdng' 'HdBoard' 'Plywood' 'MetalSd']...\n",
      "Exterior2nd: ['VinylSd' 'Wd Sdng' 'HdBoard' 'Plywood' 'MetalSd']...\n",
      "MasVnrType: [nan 'BrkFace' 'Stone' 'BrkCmn']...\n",
      "ExterQual: ['TA' 'Gd' 'Ex' 'Fa']...\n",
      "ExterCond: ['TA' 'Gd' 'Fa' 'Po' 'Ex']...\n",
      "Foundation: ['CBlock' 'PConc' 'BrkTil' 'Stone' 'Slab']...\n",
      "BsmtQual: ['TA' 'Gd' 'Ex' 'Fa']...\n",
      "BsmtCond: ['TA' 'Po' 'Fa' 'Gd']...\n",
      "BsmtExposure: ['No' 'Gd' 'Mn' 'Av']...\n",
      "BsmtFinType1: ['Rec' 'ALQ' 'GLQ' 'Unf' 'BLQ']...\n",
      "BsmtFinType2: ['LwQ' 'Unf' 'Rec' 'BLQ' 'GLQ']...\n",
      "Heating: ['GasA' 'GasW' 'Grav' 'Wall']...\n",
      "HeatingQC: ['TA' 'Gd' 'Ex' 'Fa' 'Po']...\n",
      "CentralAir: ['Y' 'N']...\n",
      "Electrical: ['SBrkr' 'FuseA' 'FuseF' 'FuseP']...\n",
      "KitchenQual: ['TA' 'Gd' 'Ex' 'Fa']...\n",
      "Functional: ['Typ' 'Min2' 'Min1' 'Mod' 'Maj1']...\n",
      "FireplaceQu: [nan 'TA' 'Gd' 'Po' 'Fa']...\n",
      "GarageType: ['Attchd' 'Detchd' 'BuiltIn' 'Basment' '2Types']...\n",
      "GarageFinish: ['Unf' 'Fin' 'RFn']...\n",
      "GarageQual: ['TA' 'Fa' 'Gd' 'Po']...\n",
      "GarageCond: ['TA' 'Fa' 'Gd' 'Po' 'Ex']...\n",
      "PavedDrive: ['Y' 'N' 'P']...\n",
      "PoolQC: [nan 'Ex' 'Gd']...\n",
      "Fence: ['MnPrv' 'GdPrv' 'GdWo' 'MnWw']...\n",
      "MiscFeature: [nan 'Gar2' 'Shed' 'Othr']...\n",
      "SaleType: ['WD' 'COD' 'New' 'ConLD' 'Oth']...\n",
      "SaleCondition: ['Normal' 'Partial' 'Abnorml' 'Family' 'Alloca']...\n"
     ]
    }
   ],
   "source": [
    "# Identify object-type columns (categorical)\n",
    "categorical_cols = df.select_dtypes(include=\"object\").columns.tolist()\n",
    "\n",
    "print(\"Categorical Columns:\")\n",
    "for col in categorical_cols:\n",
    "    print(f\"{col}: {df[col].unique()[:5]}...\")  # showing only first 5 unique values for brevity\n"
   ]
  },
  {
   "cell_type": "code",
   "execution_count": 3,
   "id": "3b0a6243",
   "metadata": {},
   "outputs": [
    {
     "data": {
      "text/html": [
       "<div>\n",
       "<style scoped>\n",
       "    .dataframe tbody tr th:only-of-type {\n",
       "        vertical-align: middle;\n",
       "    }\n",
       "\n",
       "    .dataframe tbody tr th {\n",
       "        vertical-align: top;\n",
       "    }\n",
       "\n",
       "    .dataframe thead th {\n",
       "        text-align: right;\n",
       "    }\n",
       "</style>\n",
       "<table border=\"1\" class=\"dataframe\">\n",
       "  <thead>\n",
       "    <tr style=\"text-align: right;\">\n",
       "      <th></th>\n",
       "      <th>Neighborhood</th>\n",
       "      <th>Neighborhood_LE</th>\n",
       "    </tr>\n",
       "  </thead>\n",
       "  <tbody>\n",
       "    <tr>\n",
       "      <th>0</th>\n",
       "      <td>NAmes</td>\n",
       "      <td>12</td>\n",
       "    </tr>\n",
       "    <tr>\n",
       "      <th>1</th>\n",
       "      <td>NAmes</td>\n",
       "      <td>12</td>\n",
       "    </tr>\n",
       "    <tr>\n",
       "      <th>2</th>\n",
       "      <td>Gilbert</td>\n",
       "      <td>8</td>\n",
       "    </tr>\n",
       "    <tr>\n",
       "      <th>3</th>\n",
       "      <td>Gilbert</td>\n",
       "      <td>8</td>\n",
       "    </tr>\n",
       "    <tr>\n",
       "      <th>4</th>\n",
       "      <td>StoneBr</td>\n",
       "      <td>22</td>\n",
       "    </tr>\n",
       "  </tbody>\n",
       "</table>\n",
       "</div>"
      ],
      "text/plain": [
       "  Neighborhood  Neighborhood_LE\n",
       "0        NAmes               12\n",
       "1        NAmes               12\n",
       "2      Gilbert                8\n",
       "3      Gilbert                8\n",
       "4      StoneBr               22"
      ]
     },
     "execution_count": 3,
     "metadata": {},
     "output_type": "execute_result"
    }
   ],
   "source": [
    "# Label Encoding\n",
    "le = LabelEncoder()\n",
    "df['Neighborhood_LE'] = le.fit_transform(df['Neighborhood'])\n",
    "\n",
    "# Show original vs. label-encoded values\n",
    "df[['Neighborhood', 'Neighborhood_LE']].head()\n"
   ]
  },
  {
   "cell_type": "code",
   "execution_count": 4,
   "id": "40d560b5",
   "metadata": {},
   "outputs": [
    {
     "name": "stdout",
     "output_type": "stream",
     "text": [
      "Original shape with Label Encoding: (1459, 81)\n",
      "New shape with One-Hot Encoding: (1459, 104)\n"
     ]
    }
   ],
   "source": [
    "# One-Hot Encoding\n",
    "df_onehot = pd.get_dummies(df, columns=['Neighborhood'], drop_first=True)\n",
    "\n",
    "# Display the shape difference\n",
    "print(\"Original shape with Label Encoding:\", df.shape)\n",
    "print(\"New shape with One-Hot Encoding:\", df_onehot.shape)\n"
   ]
  },
  {
   "cell_type": "markdown",
   "id": "9844a556",
   "metadata": {},
   "source": [
    "# Label Encoding is useful for ordinal data (where order matters) or tree-based models.\n",
    "# One-Hot Encoding is preferred for nominal data (no inherent order), especially for linear models.\n",
    "# One-Hot Encoding increases dimensionality but avoids false ordinal assumptions.\n"
   ]
  },
  {
   "cell_type": "markdown",
   "id": "28b60044",
   "metadata": {},
   "source": [
    "# ===================================================== PART B =================================================="
   ]
  },
  {
   "cell_type": "code",
   "execution_count": 6,
   "id": "cdcf1f7c",
   "metadata": {},
   "outputs": [
    {
     "name": "stdout",
     "output_type": "stream",
     "text": [
      "Coefficient: 3.843788937744333\n",
      "Intercept: 4078.8198046279904\n"
     ]
    }
   ],
   "source": [
    "# Use GrLivArea as predictor and LotArea as target\n",
    "X = df[['GrLivArea']]\n",
    "y = df['LotArea']\n",
    "\n",
    "# Split into train/test (80/20)\n",
    "X_train, X_test, y_train, y_test = train_test_split(X, y, test_size=0.2, random_state=42)\n",
    "\n",
    "# Initialize and train model\n",
    "lr = LinearRegression()\n",
    "lr.fit(X_train, y_train)\n",
    "\n",
    "# Output coefficients\n",
    "print(\"Coefficient:\", lr.coef_[0])\n",
    "print(\"Intercept:\", lr.intercept_)\n"
   ]
  },
  {
   "cell_type": "code",
   "execution_count": 7,
   "id": "ac783d95",
   "metadata": {},
   "outputs": [
    {
     "data": {
      "image/png": "[encoded data removed]",
      "text/plain": [
       "<Figure size 800x600 with 1 Axes>"
      ]
     },
     "metadata": {},
     "output_type": "display_data"
    }
   ],
   "source": [
    "# Plot data and regression line\n",
    "plt.figure(figsize=(8, 6))\n",
    "plt.scatter(X_test, y_test, color='blue', label=\"Actual\")\n",
    "plt.plot(X_test, lr.predict(X_test), color='red', label=\"Regression Line\")\n",
    "plt.xlabel(\"GrLivArea\")\n",
    "plt.ylabel(\"SalePrice\")\n",
    "plt.title(\"Simple Linear Regression\")\n",
    "plt.legend()\n",
    "plt.show()\n"
   ]
  },
  {
   "cell_type": "code",
   "execution_count": 8,
   "id": "e1d00639",
   "metadata": {},
   "outputs": [
    {
     "data": {
      "text/html": [
       "<div>\n",
       "<style scoped>\n",
       "    .dataframe tbody tr th:only-of-type {\n",
       "        vertical-align: middle;\n",
       "    }\n",
       "\n",
       "    .dataframe tbody tr th {\n",
       "        vertical-align: top;\n",
       "    }\n",
       "\n",
       "    .dataframe thead th {\n",
       "        text-align: right;\n",
       "    }\n",
       "</style>\n",
       "<table border=\"1\" class=\"dataframe\">\n",
       "  <thead>\n",
       "    <tr style=\"text-align: right;\">\n",
       "      <th></th>\n",
       "      <th>Actual</th>\n",
       "      <th>Predicted</th>\n",
       "    </tr>\n",
       "  </thead>\n",
       "  <tbody>\n",
       "    <tr>\n",
       "      <th>0</th>\n",
       "      <td>7200</td>\n",
       "      <td>7399.853447</td>\n",
       "    </tr>\n",
       "    <tr>\n",
       "      <th>1</th>\n",
       "      <td>9709</td>\n",
       "      <td>12150.776574</td>\n",
       "    </tr>\n",
       "    <tr>\n",
       "      <th>2</th>\n",
       "      <td>9757</td>\n",
       "      <td>7884.170853</td>\n",
       "    </tr>\n",
       "    <tr>\n",
       "      <th>3</th>\n",
       "      <td>6240</td>\n",
       "      <td>9237.184559</td>\n",
       "    </tr>\n",
       "    <tr>\n",
       "      <th>4</th>\n",
       "      <td>12671</td>\n",
       "      <td>13388.476612</td>\n",
       "    </tr>\n",
       "  </tbody>\n",
       "</table>\n",
       "</div>"
      ],
      "text/plain": [
       "   Actual     Predicted\n",
       "0    7200   7399.853447\n",
       "1    9709  12150.776574\n",
       "2    9757   7884.170853\n",
       "3    6240   9237.184559\n",
       "4   12671  13388.476612"
      ]
     },
     "execution_count": 8,
     "metadata": {},
     "output_type": "execute_result"
    }
   ],
   "source": [
    "# Predict on test set\n",
    "y_pred = lr.predict(X_test)\n",
    "\n",
    "# Display first 5 predictions\n",
    "pd.DataFrame({'Actual': y_test.values[:5], 'Predicted': y_pred[:5]})\n"
   ]
  },
  {
   "cell_type": "markdown",
   "id": "568f1d7a",
   "metadata": {},
   "source": [
    "# ===================================================== PART C =================================================="
   ]
  },
  {
   "cell_type": "code",
   "execution_count": 9,
   "id": "71bddef0",
   "metadata": {},
   "outputs": [
    {
     "name": "stdout",
     "output_type": "stream",
     "text": [
      "MAE: 2939.33\n",
      "MSE: 19681494.32\n",
      "RMSE: 4436.38\n",
      "R-squared: 0.0966\n"
     ]
    }
   ],
   "source": [
    "# MAE\n",
    "mae = mean_absolute_error(y_test, y_pred)\n",
    "# MSE\n",
    "mse = mean_squared_error(y_test, y_pred)\n",
    "# RMSE\n",
    "rmse = np.sqrt(mse)\n",
    "# R2\n",
    "r2 = r2_score(y_test, y_pred)\n",
    "\n",
    "print(f\"MAE: {mae:.2f}\")\n",
    "print(f\"MSE: {mse:.2f}\")\n",
    "print(f\"RMSE: {rmse:.2f}\")\n",
    "print(f\"R-squared: {r2:.4f}\")\n"
   ]
  },
  {
   "cell_type": "code",
   "execution_count": 11,
   "id": "1cf8aa49",
   "metadata": {},
   "outputs": [
    {
     "name": "stdout",
     "output_type": "stream",
     "text": [
      "\n",
      "--- Interpretation ---\n",
      "❌ R-squared is low, indicating the model does not explain much variance.\n",
      "✅ RMSE is lower than the standard deviation of SalePrice, suggesting reasonable predictive power.\n",
      "MAE gives an average absolute error in units of SalePrice (currency), which helps assess average prediction deviation.\n"
     ]
    }
   ],
   "source": [
    "# Interpretation\n",
    "print(\"\\n--- Interpretation ---\")\n",
    "if r2 >= 0.8:\n",
    "    print(\"✅ R-squared is high, indicating the model explains a large portion of variance in SalePrice.\")\n",
    "elif 0.5 <= r2 < 0.8:\n",
    "    print(\"⚠️ R-squared is moderate, indicating a decent but improvable fit.\")\n",
    "else:\n",
    "    print(\"❌ R-squared is low, indicating the model does not explain much variance.\")\n",
    "\n",
    "if rmse < df['LotArea'].std():\n",
    "    print(\"✅ RMSE is lower than the standard deviation of SalePrice, suggesting reasonable predictive power.\")\n",
    "else:\n",
    "    print(\"⚠️ RMSE is high compared to target spread; predictions may not be reliable.\")\n",
    "\n",
    "print(\"MAE gives an average absolute error in units of SalePrice (currency), which helps assess average prediction deviation.\")\n"
   ]
  },
  {
   "cell_type": "markdown",
   "id": "a7ec9b94",
   "metadata": {},
   "source": [
    "# ===================================================== PART D =================================================="
   ]
  },
  {
   "cell_type": "code",
   "execution_count": 13,
   "id": "9b6def0c",
   "metadata": {},
   "outputs": [],
   "source": [
    "# Select multiple features\n",
    "features = ['GrLivArea', 'OverallQual', 'YearBuilt']\n",
    "X_multi = df[features]\n",
    "y = df['LotArea']\n",
    "\n",
    "# Train-test split\n",
    "X_train_m, X_test_m, y_train_m, y_test_m = train_test_split(X_multi, y, test_size=0.2, random_state=42)\n"
   ]
  },
  {
   "cell_type": "code",
   "execution_count": 14,
   "id": "06d541d1",
   "metadata": {},
   "outputs": [
    {
     "name": "stdout",
     "output_type": "stream",
     "text": [
      "       Feature  Coefficient\n",
      "0    GrLivArea     4.742603\n",
      "1  OverallQual  -541.963171\n",
      "2    YearBuilt    -0.446831\n",
      "Intercept: 6928.294920037164\n"
     ]
    }
   ],
   "source": [
    "# Train model\n",
    "mlr = LinearRegression()\n",
    "mlr.fit(X_train_m, y_train_m)\n",
    "\n",
    "# Output coefficients\n",
    "coeff_df = pd.DataFrame({\n",
    "    \"Feature\": features,\n",
    "    \"Coefficient\": mlr.coef_\n",
    "})\n",
    "print(coeff_df)\n",
    "print(\"Intercept:\", mlr.intercept_)\n"
   ]
  },
  {
   "cell_type": "code",
   "execution_count": 15,
   "id": "f9986699",
   "metadata": {},
   "outputs": [
    {
     "name": "stdout",
     "output_type": "stream",
     "text": [
      "MAE: 2967.92\n",
      "MSE: 19794017.37\n",
      "RMSE: 4449.05\n",
      "R-squared: 0.0914\n"
     ]
    }
   ],
   "source": [
    "# Predict\n",
    "y_pred_m = mlr.predict(X_test_m)\n",
    "\n",
    "# Metrics\n",
    "mae_m = mean_absolute_error(y_test_m, y_pred_m)\n",
    "mse_m = mean_squared_error(y_test_m, y_pred_m)\n",
    "rmse_m = np.sqrt(mse_m)\n",
    "r2_m = r2_score(y_test_m, y_pred_m)\n",
    "\n",
    "print(f\"MAE: {mae_m:.2f}\")\n",
    "print(f\"MSE: {mse_m:.2f}\")\n",
    "print(f\"RMSE: {rmse_m:.2f}\")\n",
    "print(f\"R-squared: {r2_m:.4f}\")\n"
   ]
  },
  {
   "cell_type": "code",
   "execution_count": 16,
   "id": "72d3f248",
   "metadata": {},
   "outputs": [
    {
     "data": {
      "image/png": "[encoded data removed]",
      "text/plain": [
       "<Figure size 800x600 with 1 Axes>"
      ]
     },
     "metadata": {},
     "output_type": "display_data"
    }
   ],
   "source": [
    "plt.figure(figsize=(8, 6))\n",
    "plt.scatter(y_test_m, y_pred_m, color='purple', alpha=0.6)\n",
    "plt.plot([y.min(), y.max()], [y.min(), y.max()], 'r--', lw=2)\n",
    "plt.xlabel(\"Actual SalePrice\")\n",
    "plt.ylabel(\"Predicted SalePrice\")\n",
    "plt.title(\"Actual vs Predicted - Multiple Linear Regression\")\n",
    "plt.show()\n"
   ]
  },
  {
   "cell_type": "markdown",
   "id": "d031001e",
   "metadata": {},
   "source": [
    "# ===================================================== PART E =================================================="
   ]
  },
  {
   "cell_type": "markdown",
   "id": "4dc3bc73",
   "metadata": {},
   "source": [
    "# Key assumptions of linear regression:\n",
    "# 1. Linearity: Relationship between independent and dependent variables is linear.\n",
    "# 2. Homoscedasticity: Constant variance of residuals across all levels of predictors.\n",
    "# 3. Normality of residuals: Residuals are normally distributed.\n",
    "# 4. Independence: Observations and residuals are independent.\n"
   ]
  },
  {
   "cell_type": "markdown",
   "id": "b9b8fc58",
   "metadata": {},
   "source": [
    "# Multicollinearity occurs when independent variables are highly correlated.\n",
    "# It can inflate variances of coefficients and make interpretation unreliable.\n",
    "\n",
    "# Detection:\n",
    "# Variance Inflation Factor (VIF) - values >5 or 10 suggest high multicollinearity.\n",
    "\n",
    "# Solution:\n",
    "# - Drop correlated variables\n",
    "# - Combine into single feature (e.g., PCA)\n"
   ]
  },
  {
   "cell_type": "markdown",
   "id": "e51fb5eb",
   "metadata": {},
   "source": [
    "# Techniques for selecting features in regression:\n",
    "# 1. Correlation Analysis: Remove highly correlated (redundant) variables.\n",
    "# 2. Domain Knowledge: Use real-world knowledge to guide inclusion.\n",
    "# 3. Feature Selection Algorithms: \n",
    "#    - Forward Selection: Start with none, add best at each step.\n",
    "#    - Backward Elimination: Start with all, remove worst at each step.\n",
    "#    - Recursive Feature Elimination (RFE)\n"
   ]
  }
 ],
 "metadata": {
  "kernelspec": {
   "display_name": "Python 3",
   "language": "python",
   "name": "python3"
  },
  "language_info": {
   "codemirror_mode": {
    "name": "ipython",
    "version": 3
   },
   "file_extension": ".py",
   "mimetype": "text/x-python",
   "name": "python",
   "nbconvert_exporter": "python",
   "pygments_lexer": "ipython3",
   "version": "3.11.9"
  }
 },
 "nbformat": 4,
 "nbformat_minor": 5
}
