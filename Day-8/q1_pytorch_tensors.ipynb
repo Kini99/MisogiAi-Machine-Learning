{
 "cells": [
  {
   "cell_type": "code",
   "execution_count": 1,
   "id": "6fd1fdc3",
   "metadata": {},
   "outputs": [
    {
     "name": "stdout",
     "output_type": "stream",
     "text": [
      "Tensor A:\n",
      "tensor([[-0.6506,  0.5898],\n",
      "        [ 1.0993,  0.8082],\n",
      "        [-0.4500, -0.0801]])\n",
      "Tensor B:\n",
      "tensor([[ 0.8016,  1.2751,  1.6066],\n",
      "        [ 0.9922, -0.0397,  0.3606]])\n"
     ]
    }
   ],
   "source": [
    "import torch\n",
    "\n",
    "device = 'cpu'\n",
    "# Create tensor A with shape (3, 2)\n",
    "A = torch.randn(3, 2)\n",
    "\n",
    "# Create tensor B with shape (2, 3)\n",
    "B = torch.randn(2, 3)\n",
    "\n",
    "# Print tensors\n",
    "print(\"Tensor A:\")\n",
    "print(A)\n",
    "print(\"Tensor B:\")\n",
    "print(B)\n"
   ]
  },
  {
   "cell_type": "code",
   "execution_count": 2,
   "id": "68017bff",
   "metadata": {},
   "outputs": [
    {
     "name": "stdout",
     "output_type": "stream",
     "text": [
      "Matrix Multiplication C = A @ B:\n",
      "tensor([[ 0.0637, -0.8530, -0.8326],\n",
      "        [ 1.6830,  1.3697,  2.0576],\n",
      "        [-0.4402, -0.5706, -0.7519]])\n"
     ]
    }
   ],
   "source": [
    "# Matrix multiplication: A (3x2) @ B (2x3) = C (3x3)\n",
    "C = A @ B\n",
    "\n",
    "print(\"Matrix Multiplication C = A @ B:\")\n",
    "print(C)\n"
   ]
  },
  {
   "cell_type": "code",
   "execution_count": 3,
   "id": "8a97fc00",
   "metadata": {},
   "outputs": [
    {
     "name": "stdout",
     "output_type": "stream",
     "text": [
      "Element-wise Addition D = A + 1:\n",
      "tensor([[0.3494, 1.5898],\n",
      "        [2.0993, 1.8082],\n",
      "        [0.5500, 0.9199]])\n"
     ]
    }
   ],
   "source": [
    "# Element-wise addition: D = A + tensor of ones with same shape as A\n",
    "D = A + torch.ones_like(A)\n",
    "\n",
    "print(\"Element-wise Addition D = A + 1:\")\n",
    "print(D)\n"
   ]
  },
  {
   "cell_type": "code",
   "execution_count": 4,
   "id": "3f002792",
   "metadata": {},
   "outputs": [
    {
     "name": "stdout",
     "output_type": "stream",
     "text": [
      "C moved to device: cpu\n",
      "tensor([[ 0.0637, -0.8530, -0.8326],\n",
      "        [ 1.6830,  1.3697,  2.0576],\n",
      "        [-0.4402, -0.5706, -0.7519]])\n"
     ]
    }
   ],
   "source": [
    "# Move tensor C to device (GPU if available, else CPU)\n",
    "C_device = C.to(device)\n",
    "\n",
    "print(\"C moved to device:\", C_device.device)\n",
    "print(C_device)\n"
   ]
  }
 ],
 "metadata": {
  "kernelspec": {
   "display_name": "Python 3",
   "language": "python",
   "name": "python3"
  },
  "language_info": {
   "codemirror_mode": {
    "name": "ipython",
    "version": 3
   },
   "file_extension": ".py",
   "mimetype": "text/x-python",
   "name": "python",
   "nbconvert_exporter": "python",
   "pygments_lexer": "ipython3",
   "version": "3.11.9"
  }
 },
 "nbformat": 4,
 "nbformat_minor": 5
}
