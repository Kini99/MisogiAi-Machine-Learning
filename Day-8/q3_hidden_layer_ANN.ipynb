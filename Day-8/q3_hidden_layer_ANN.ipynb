{
 "cells": [
  {
   "cell_type": "code",
   "execution_count": 1,
   "id": "56b3e6fe",
   "metadata": {},
   "outputs": [],
   "source": [
    "import torch\n",
    "import pandas as pd\n",
    "from sklearn.model_selection import train_test_split\n",
    "from sklearn.metrics import accuracy_score\n"
   ]
  },
  {
   "cell_type": "code",
   "execution_count": 2,
   "id": "9f6a43d5",
   "metadata": {},
   "outputs": [],
   "source": [
    "# Load the dataset\n",
    "df = pd.read_csv('binary_data.csv')\n",
    "\n",
    "# Features and target\n",
    "X = df[['f1', 'f2']].values\n",
    "y = df['label'].values\n",
    "\n",
    "# Train-test split\n",
    "X_train, X_test, y_train, y_test = train_test_split(X, y, test_size=0.2, random_state=42)\n",
    "\n",
    "# Convert to tensors\n",
    "X_train = torch.tensor(X_train, dtype=torch.float32)\n",
    "y_train = torch.tensor(y_train.reshape(-1, 1), dtype=torch.float32)\n",
    "\n",
    "X_test = torch.tensor(X_test, dtype=torch.float32)\n",
    "y_test = torch.tensor(y_test.reshape(-1, 1), dtype=torch.float32)\n"
   ]
  },
  {
   "cell_type": "code",
   "execution_count": 3,
   "id": "080a343a",
   "metadata": {},
   "outputs": [],
   "source": [
    "# Set seed for reproducibility\n",
    "torch.manual_seed(0)\n",
    "\n",
    "# Architecture: 2 input → 4 hidden → 1 output\n",
    "W1 = torch.randn(2, 4, requires_grad=True)\n",
    "b1 = torch.zeros(1, 4, requires_grad=True)\n",
    "\n",
    "W2 = torch.randn(4, 1, requires_grad=True)\n",
    "b2 = torch.zeros(1, 1, requires_grad=True)\n"
   ]
  },
  {
   "cell_type": "code",
   "execution_count": 4,
   "id": "0b5074d6",
   "metadata": {},
   "outputs": [],
   "source": [
    "# Binary cross entropy loss\n",
    "def binary_cross_entropy(pred, target):\n",
    "    epsilon = 1e-8  # avoid log(0)\n",
    "    return -torch.mean(target * torch.log(pred + epsilon) + (1 - target) * torch.log(1 - pred + epsilon))\n",
    "\n",
    "# Learning rate and epochs\n",
    "lr = 0.1\n",
    "epochs = 100\n"
   ]
  },
  {
   "cell_type": "code",
   "execution_count": 5,
   "id": "955b78e3",
   "metadata": {},
   "outputs": [
    {
     "name": "stdout",
     "output_type": "stream",
     "text": [
      "Epoch 1: Loss = 0.9250\n",
      "Epoch 10: Loss = 0.4917\n",
      "Epoch 20: Loss = 0.3294\n",
      "Epoch 30: Loss = 0.2522\n",
      "Epoch 40: Loss = 0.2060\n",
      "Epoch 50: Loss = 0.1755\n",
      "Epoch 60: Loss = 0.1541\n",
      "Epoch 70: Loss = 0.1386\n",
      "Epoch 80: Loss = 0.1271\n",
      "Epoch 90: Loss = 0.1182\n",
      "Epoch 100: Loss = 0.1112\n"
     ]
    }
   ],
   "source": [
    "for epoch in range(1, epochs + 1):\n",
    "    # Forward pass\n",
    "    Z1 = X_train @ W1 + b1       # shape: (batch, 4)\n",
    "    A1 = torch.relu(Z1)          # activation\n",
    "    Z2 = A1 @ W2 + b2            # shape: (batch, 1)\n",
    "    y_pred = torch.sigmoid(Z2)  # sigmoid output\n",
    "\n",
    "    # Compute loss\n",
    "    loss = binary_cross_entropy(y_pred, y_train)\n",
    "\n",
    "    # Backpropagation\n",
    "    loss.backward()\n",
    "\n",
    "    # Manual update\n",
    "    with torch.no_grad():\n",
    "        W1 -= lr * W1.grad\n",
    "        b1 -= lr * b1.grad\n",
    "        W2 -= lr * W2.grad\n",
    "        b2 -= lr * b2.grad\n",
    "\n",
    "        # Zero gradients\n",
    "        W1.grad.zero_()\n",
    "        b1.grad.zero_()\n",
    "        W2.grad.zero_()\n",
    "        b2.grad.zero_()\n",
    "\n",
    "    # Print every 10 epochs\n",
    "    if epoch % 10 == 0 or epoch == 1:\n",
    "        print(f\"Epoch {epoch}: Loss = {loss.item():.4f}\")\n"
   ]
  },
  {
   "cell_type": "code",
   "execution_count": 6,
   "id": "185451fb",
   "metadata": {},
   "outputs": [
    {
     "name": "stdout",
     "output_type": "stream",
     "text": [
      "Accuracy on test set: 100.00%\n"
     ]
    }
   ],
   "source": [
    "with torch.no_grad():\n",
    "    # Forward on test set\n",
    "    Z1_test = X_test @ W1 + b1\n",
    "    A1_test = torch.relu(Z1_test)\n",
    "    Z2_test = A1_test @ W2 + b2\n",
    "    y_test_pred = torch.sigmoid(Z2_test)\n",
    "\n",
    "    # Convert probabilities to labels (threshold = 0.5)\n",
    "    y_test_labels = (y_test_pred >= 0.5).float()\n",
    "\n",
    "    # Accuracy\n",
    "    accuracy = (y_test_labels == y_test).float().mean() * 100\n",
    "    print(f\"Accuracy on test set: {accuracy:.2f}%\")\n"
   ]
  }
 ],
 "metadata": {
  "kernelspec": {
   "display_name": "Python 3",
   "language": "python",
   "name": "python3"
  },
  "language_info": {
   "codemirror_mode": {
    "name": "ipython",
    "version": 3
   },
   "file_extension": ".py",
   "mimetype": "text/x-python",
   "name": "python",
   "nbconvert_exporter": "python",
   "pygments_lexer": "ipython3",
   "version": "3.11.9"
  }
 },
 "nbformat": 4,
 "nbformat_minor": 5
}
