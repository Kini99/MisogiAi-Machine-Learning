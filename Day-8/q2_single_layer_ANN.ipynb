{
 "cells": [
  {
   "cell_type": "markdown",
   "id": "7697c94e",
   "metadata": {},
   "source": [
    "Dataset: 2D binary classification using make_classification\n",
    "\n",
    "Model:\n",
    "y^​=σ(wTx+b)\n",
    "σ is the sigmoid\n",
    "\n",
    "Loss: Binary Cross-Entropy\n",
    "\n",
    "Optimizer: Manual gradient update using basic PyTorch ops"
   ]
  },
  {
   "cell_type": "code",
   "execution_count": 1,
   "id": "65583e5a",
   "metadata": {},
   "outputs": [],
   "source": [
    "import torch\n",
    "import pandas as pd\n",
    "import numpy as np\n",
    "from sklearn.datasets import make_classification\n",
    "from sklearn.model_selection import train_test_split\n",
    "from sklearn.metrics import accuracy_score\n"
   ]
  },
  {
   "cell_type": "code",
   "execution_count": 3,
   "id": "ccbfb48d",
   "metadata": {},
   "outputs": [
    {
     "data": {
      "text/html": [
       "<div>\n",
       "<style scoped>\n",
       "    .dataframe tbody tr th:only-of-type {\n",
       "        vertical-align: middle;\n",
       "    }\n",
       "\n",
       "    .dataframe tbody tr th {\n",
       "        vertical-align: top;\n",
       "    }\n",
       "\n",
       "    .dataframe thead th {\n",
       "        text-align: right;\n",
       "    }\n",
       "</style>\n",
       "<table border=\"1\" class=\"dataframe\">\n",
       "  <thead>\n",
       "    <tr style=\"text-align: right;\">\n",
       "      <th></th>\n",
       "      <th>f1</th>\n",
       "      <th>f2</th>\n",
       "      <th>label</th>\n",
       "    </tr>\n",
       "  </thead>\n",
       "  <tbody>\n",
       "    <tr>\n",
       "      <th>0</th>\n",
       "      <td>1.300227</td>\n",
       "      <td>-0.785654</td>\n",
       "      <td>1</td>\n",
       "    </tr>\n",
       "    <tr>\n",
       "      <th>1</th>\n",
       "      <td>1.441844</td>\n",
       "      <td>-0.560086</td>\n",
       "      <td>1</td>\n",
       "    </tr>\n",
       "    <tr>\n",
       "      <th>2</th>\n",
       "      <td>-0.847924</td>\n",
       "      <td>-1.366213</td>\n",
       "      <td>0</td>\n",
       "    </tr>\n",
       "    <tr>\n",
       "      <th>3</th>\n",
       "      <td>-0.722150</td>\n",
       "      <td>-1.411294</td>\n",
       "      <td>0</td>\n",
       "    </tr>\n",
       "    <tr>\n",
       "      <th>4</th>\n",
       "      <td>-1.272215</td>\n",
       "      <td>0.259451</td>\n",
       "      <td>0</td>\n",
       "    </tr>\n",
       "  </tbody>\n",
       "</table>\n",
       "</div>"
      ],
      "text/plain": [
       "         f1        f2  label\n",
       "0  1.300227 -0.785654      1\n",
       "1  1.441844 -0.560086      1\n",
       "2 -0.847924 -1.366213      0\n",
       "3 -0.722150 -1.411294      0\n",
       "4 -1.272215  0.259451      0"
      ]
     },
     "execution_count": 3,
     "metadata": {},
     "output_type": "execute_result"
    }
   ],
   "source": [
    "# Generate binary classification data\n",
    "X, y = make_classification(\n",
    "    n_samples=100,\n",
    "    n_features=2,\n",
    "    n_informative=2,\n",
    "    n_redundant=0,\n",
    "    n_repeated=0,\n",
    "    n_classes=2,\n",
    "    random_state=1\n",
    ")\n",
    "\n",
    "# Create DataFrame and save to CSV\n",
    "df = pd.DataFrame(X, columns=['f1', 'f2'])\n",
    "df['label'] = y\n",
    "df.to_csv('binary_data.csv', index=False)\n",
    "\n",
    "# Show sample\n",
    "df.head()\n"
   ]
  },
  {
   "cell_type": "code",
   "execution_count": 4,
   "id": "fbef24d3",
   "metadata": {},
   "outputs": [],
   "source": [
    "# Load from CSV\n",
    "data = pd.read_csv('binary_data.csv')\n",
    "\n",
    "# Features and labels\n",
    "X = data[['f1', 'f2']].values\n",
    "y = data['label'].values\n",
    "\n",
    "# Train-test split\n",
    "X_train, X_test, y_train, y_test = train_test_split(X, y, test_size=0.2, random_state=42)\n",
    "\n",
    "# Convert to PyTorch tensors\n",
    "X_train = torch.tensor(X_train, dtype=torch.float32)\n",
    "y_train = torch.tensor(y_train.reshape(-1, 1), dtype=torch.float32)\n",
    "\n",
    "X_test = torch.tensor(X_test, dtype=torch.float32)\n",
    "y_test = torch.tensor(y_test.reshape(-1, 1), dtype=torch.float32)\n"
   ]
  },
  {
   "cell_type": "code",
   "execution_count": 5,
   "id": "051bf8bd",
   "metadata": {},
   "outputs": [],
   "source": [
    "# Sigmoid activation\n",
    "def sigmoid(x):\n",
    "    return 1 / (1 + torch.exp(-x))\n",
    "\n",
    "# Binary Cross Entropy loss\n",
    "def binary_cross_entropy(pred, target):\n",
    "    epsilon = 1e-8  # avoid log(0)\n",
    "    return -torch.mean(target * torch.log(pred + epsilon) + (1 - target) * torch.log(1 - pred + epsilon))\n"
   ]
  },
  {
   "cell_type": "code",
   "execution_count": 6,
   "id": "c1020ea3",
   "metadata": {},
   "outputs": [],
   "source": [
    "# Initialize weights and bias\n",
    "torch.manual_seed(0)\n",
    "W = torch.randn(2, 1, requires_grad=True)  # shape (n_features, 1)\n",
    "b = torch.randn(1, requires_grad=True)\n",
    "\n",
    "# Learning rate\n",
    "lr = 0.1\n",
    "epochs = 100\n"
   ]
  },
  {
   "cell_type": "code",
   "execution_count": 7,
   "id": "b920723c",
   "metadata": {},
   "outputs": [
    {
     "name": "stdout",
     "output_type": "stream",
     "text": [
      "Epoch 1: Loss = 0.6409\n",
      "Epoch 10: Loss = 0.5099\n",
      "Epoch 20: Loss = 0.4106\n",
      "Epoch 30: Loss = 0.3427\n",
      "Epoch 40: Loss = 0.2947\n",
      "Epoch 50: Loss = 0.2597\n",
      "Epoch 60: Loss = 0.2333\n",
      "Epoch 70: Loss = 0.2128\n",
      "Epoch 80: Loss = 0.1965\n",
      "Epoch 90: Loss = 0.1834\n",
      "Epoch 100: Loss = 0.1726\n"
     ]
    }
   ],
   "source": [
    "for epoch in range(1, epochs + 1):\n",
    "    # Forward pass\n",
    "    z = X_train @ W + b      # Linear combination\n",
    "    y_pred = sigmoid(z)      # Apply sigmoid\n",
    "\n",
    "    # Compute loss\n",
    "    loss = binary_cross_entropy(y_pred, y_train)\n",
    "\n",
    "    # Backward pass (autograd)\n",
    "    loss.backward()\n",
    "\n",
    "    # Manually update weights\n",
    "    with torch.no_grad():\n",
    "        W -= lr * W.grad\n",
    "        b -= lr * b.grad\n",
    "\n",
    "        # Zero gradients\n",
    "        W.grad.zero_()\n",
    "        b.grad.zero_()\n",
    "\n",
    "    # Print every 10 epochs\n",
    "    if epoch % 10 == 0 or epoch == 1:\n",
    "        print(f\"Epoch {epoch}: Loss = {loss.item():.4f}\")\n"
   ]
  },
  {
   "cell_type": "code",
   "execution_count": 8,
   "id": "dc014110",
   "metadata": {},
   "outputs": [
    {
     "name": "stdout",
     "output_type": "stream",
     "text": [
      "Accuracy on test set = 100.00%\n"
     ]
    }
   ],
   "source": [
    "# Forward pass on test data\n",
    "with torch.no_grad():\n",
    "    test_logits = X_test @ W + b\n",
    "    test_pred = sigmoid(test_logits)\n",
    "    predicted_labels = (test_pred >= 0.5).float()\n",
    "\n",
    "# Accuracy\n",
    "accuracy = (predicted_labels == y_test).float().mean() * 100\n",
    "print(f\"Accuracy on test set = {accuracy:.2f}%\")\n"
   ]
  }
 ],
 "metadata": {
  "kernelspec": {
   "display_name": "Python 3",
   "language": "python",
   "name": "python3"
  },
  "language_info": {
   "codemirror_mode": {
    "name": "ipython",
    "version": 3
   },
   "file_extension": ".py",
   "mimetype": "text/x-python",
   "name": "python",
   "nbconvert_exporter": "python",
   "pygments_lexer": "ipython3",
   "version": "3.11.9"
  }
 },
 "nbformat": 4,
 "nbformat_minor": 5
}
