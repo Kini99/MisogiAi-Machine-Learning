{
 "cells": [
  {
   "cell_type": "markdown",
   "id": "0209bacd",
   "metadata": {},
   "source": [
    "# ====================================== THEORY ================================================"
   ]
  },
  {
   "cell_type": "markdown",
   "id": "38a16e20",
   "metadata": {},
   "source": [
    "## Q1. What is the intuition behind the KNN algorithm? How does it make a prediction?\n",
    "KNN is an instance-based, non-parametric algorithm. It stores the entire training dataset and predicts the class of a new data point by finding the 'k' nearest neighbors (based on distance) and taking a majority vote (for classification) or average (for regression) among them.\n"
   ]
  },
  {
   "cell_type": "markdown",
   "id": "5e8d3985",
   "metadata": {},
   "source": [
    "## Q2. Differences between Euclidean, Manhattan, and Minkowski Distances\n",
    "- **Euclidean Distance**: Straight-line distance.\n",
    "- **Manhattan Distance**: Sum of absolute differences.\n",
    "- **Minkowski Distance**: Generalized form with a parameter `p`. If p=1 → Manhattan, p=2 → Euclidean.\n",
    "Implication: Choice of metric affects which points are considered \"closest\", especially in high-dimensional data.\n"
   ]
  },
  {
   "cell_type": "markdown",
   "id": "c13d98b5",
   "metadata": {},
   "source": [
    "## Q3. Advantages & Drawbacks of KNN\n",
    "### Advantages:\n",
    "1. Simple and easy to understand.\n",
    "2. No training time.\n",
    "3. Naturally handles multi-class problems.\n",
    "\n",
    "### Drawbacks:\n",
    "1. Slow inference for large datasets.\n",
    "2. Sensitive to irrelevant features and feature scaling.\n",
    "3. Doesn't perform well with high-dimensional data.\n"
   ]
  },
  {
   "cell_type": "markdown",
   "id": "bf48744b",
   "metadata": {},
   "source": [
    "## Q4. What is Conditional Probability & its Role in Naive Bayes?\n",
    "Conditional probability is the probability of an event A occurring given event B has occurred: P(A|B).\n",
    "Naive Bayes uses Bayes' Theorem:  \n",
    "P(Class|Data) ∝ P(Data|Class) × P(Class)\n",
    "Each feature is assumed to contribute independently to the outcome.\n"
   ]
  },
  {
   "cell_type": "markdown",
   "id": "51a6a3ec",
   "metadata": {},
   "source": [
    "## Q5. Why Independence Assumption Matters in Naive Bayes?\n",
    "It simplifies computation of joint probabilities. If features are not independent, the model may give inaccurate probability estimates — but it can still perform surprisingly well in practice.\n"
   ]
  },
  {
   "cell_type": "markdown",
   "id": "9f80550d",
   "metadata": {},
   "source": [
    "## Q6. Types of Naive Bayes Classifiers\n",
    "1. **MultinomialNB** – For discrete data like word counts or TF-IDF.\n",
    "2. **BernoulliNB** – For binary features (e.g., word present/absent).\n",
    "3. **GaussianNB** – For continuous features assuming Gaussian distribution.\n"
   ]
  },
  {
   "cell_type": "markdown",
   "id": "caf61b76",
   "metadata": {},
   "source": [
    "## Q7. Key Differences between KNN and Naive Bayes\n",
    "1. **Learning Type**: KNN is lazy (no training), NB is eager (learns probabilities).\n",
    "2. **Model Complexity**: KNN stores full data, NB stores probabilities and is more efficient for prediction.\n"
   ]
  },
  {
   "cell_type": "markdown",
   "id": "e72d7dcf",
   "metadata": {},
   "source": [
    "# ====================================== KNN ================================================"
   ]
  },
  {
   "cell_type": "code",
   "execution_count": 1,
   "id": "8d4fd02e",
   "metadata": {},
   "outputs": [],
   "source": [
    "import numpy as np\n",
    "import pandas as pd\n",
    "import matplotlib.pyplot as plt\n",
    "import seaborn as sns\n",
    "\n",
    "from sklearn.datasets import load_wine\n",
    "from sklearn.model_selection import train_test_split\n",
    "from sklearn.preprocessing import StandardScaler\n",
    "from sklearn.neighbors import KNeighborsClassifier\n",
    "from sklearn.metrics import accuracy_score, classification_report, confusion_matrix\n"
   ]
  },
  {
   "cell_type": "code",
   "execution_count": 2,
   "id": "1591895a",
   "metadata": {},
   "outputs": [],
   "source": [
    "# Load and prepare the dataset\n",
    "data = load_wine()\n",
    "X = data.data\n",
    "y = data.target\n",
    "\n",
    "X_train, X_test, y_train, y_test = train_test_split(X, y, test_size=0.2, random_state=42)\n",
    "\n",
    "scaler = StandardScaler()\n",
    "X_train_scaled = scaler.fit_transform(X_train)\n",
    "X_test_scaled = scaler.transform(X_test)\n"
   ]
  },
  {
   "cell_type": "code",
   "execution_count": 3,
   "id": "9c5d98bd",
   "metadata": {},
   "outputs": [
    {
     "name": "stdout",
     "output_type": "stream",
     "text": [
      "\n",
      "--- K = 1 ---\n",
      "Accuracy: 0.9444444444444444\n",
      "Confusion Matrix:\n",
      " [[14  0  0]\n",
      " [ 1 12  1]\n",
      " [ 0  0  8]]\n",
      "Classification Report:\n",
      "               precision    recall  f1-score   support\n",
      "\n",
      "           0       0.93      1.00      0.97        14\n",
      "           1       1.00      0.86      0.92        14\n",
      "           2       0.89      1.00      0.94         8\n",
      "\n",
      "    accuracy                           0.94        36\n",
      "   macro avg       0.94      0.95      0.94        36\n",
      "weighted avg       0.95      0.94      0.94        36\n",
      "\n",
      "\n",
      "--- K = 3 ---\n",
      "Accuracy: 0.9444444444444444\n",
      "Confusion Matrix:\n",
      " [[14  0  0]\n",
      " [ 1 12  1]\n",
      " [ 0  0  8]]\n",
      "Classification Report:\n",
      "               precision    recall  f1-score   support\n",
      "\n",
      "           0       0.93      1.00      0.97        14\n",
      "           1       1.00      0.86      0.92        14\n",
      "           2       0.89      1.00      0.94         8\n",
      "\n",
      "    accuracy                           0.94        36\n",
      "   macro avg       0.94      0.95      0.94        36\n",
      "weighted avg       0.95      0.94      0.94        36\n",
      "\n",
      "\n",
      "--- K = 7 ---\n",
      "Accuracy: 0.9444444444444444\n",
      "Confusion Matrix:\n",
      " [[14  0  0]\n",
      " [ 1 12  1]\n",
      " [ 0  0  8]]\n",
      "Classification Report:\n",
      "               precision    recall  f1-score   support\n",
      "\n",
      "           0       0.93      1.00      0.97        14\n",
      "           1       1.00      0.86      0.92        14\n",
      "           2       0.89      1.00      0.94         8\n",
      "\n",
      "    accuracy                           0.94        36\n",
      "   macro avg       0.94      0.95      0.94        36\n",
      "weighted avg       0.95      0.94      0.94        36\n",
      "\n",
      "\n",
      "--- K = 11 ---\n",
      "Accuracy: 0.9444444444444444\n",
      "Confusion Matrix:\n",
      " [[14  0  0]\n",
      " [ 1 12  1]\n",
      " [ 0  0  8]]\n",
      "Classification Report:\n",
      "               precision    recall  f1-score   support\n",
      "\n",
      "           0       0.93      1.00      0.97        14\n",
      "           1       1.00      0.86      0.92        14\n",
      "           2       0.89      1.00      0.94         8\n",
      "\n",
      "    accuracy                           0.94        36\n",
      "   macro avg       0.94      0.95      0.94        36\n",
      "weighted avg       0.95      0.94      0.94        36\n",
      "\n"
     ]
    }
   ],
   "source": [
    "# Train & Evaluate KNN for different k\n",
    "k_values = [1, 3, 7, 11]\n",
    "results = {}\n",
    "\n",
    "for k in k_values:\n",
    "    knn = KNeighborsClassifier(n_neighbors=k)\n",
    "    knn.fit(X_train_scaled, y_train)\n",
    "    y_pred = knn.predict(X_test_scaled)\n",
    "    \n",
    "    acc = accuracy_score(y_test, y_pred)\n",
    "    results[k] = acc\n",
    "    \n",
    "    print(f\"\\n--- K = {k} ---\")\n",
    "    print(\"Accuracy:\", acc)\n",
    "    print(\"Confusion Matrix:\\n\", confusion_matrix(y_test, y_pred))\n",
    "    print(\"Classification Report:\\n\", classification_report(y_test, y_pred))\n"
   ]
  },
  {
   "cell_type": "code",
   "execution_count": 4,
   "id": "48817e0e",
   "metadata": {},
   "outputs": [
    {
     "data": {
      "image/png": "[encoded data removed]",
      "text/plain": [
       "<Figure size 640x480 with 1 Axes>"
      ]
     },
     "metadata": {},
     "output_type": "display_data"
    }
   ],
   "source": [
    "# Plot Accuracy vs K\n",
    "plt.plot(list(results.keys()), list(results.values()), marker='o')\n",
    "plt.xlabel('K value')\n",
    "plt.ylabel('Accuracy')\n",
    "plt.title('KNN Accuracy vs K')\n",
    "plt.grid(True)\n",
    "plt.show()\n"
   ]
  },
  {
   "cell_type": "markdown",
   "id": "53f1d5ec",
   "metadata": {},
   "source": [
    "# ====================================== NAIVE BAYES ================================================"
   ]
  },
  {
   "cell_type": "code",
   "execution_count": 5,
   "id": "870f4bad",
   "metadata": {},
   "outputs": [
    {
     "name": "stderr",
     "output_type": "stream",
     "text": [
      "[nltk_data] Downloading package stopwords to\n",
      "[nltk_data]     C:\\Users\\Kinjal\\AppData\\Roaming\\nltk_data...\n",
      "[nltk_data]   Unzipping corpora\\stopwords.zip.\n"
     ]
    }
   ],
   "source": [
    "import nltk\n",
    "nltk.download('stopwords')\n",
    "from nltk.corpus import stopwords\n",
    "import string\n",
    "from sklearn.feature_extraction.text import TfidfVectorizer\n",
    "from sklearn.naive_bayes import MultinomialNB, BernoulliNB"
   ]
  },
  {
   "cell_type": "code",
   "execution_count": 6,
   "id": "70d47172",
   "metadata": {},
   "outputs": [],
   "source": [
    "# Load and Preprocess Fake News Data\n",
    "df = pd.read_csv(\"news_dataset.csv\")\n",
    "\n",
    "def preprocess(text):\n",
    "    stop_words = set(stopwords.words('english'))\n",
    "    text = text.lower()\n",
    "    text = ''.join([ch for ch in text if ch not in string.punctuation])\n",
    "    return ' '.join([word for word in text.split() if word not in stop_words])\n",
    "\n",
    "df['cleaned'] = df['text'].apply(preprocess)\n"
   ]
  },
  {
   "cell_type": "code",
   "execution_count": 7,
   "id": "e92c02cb",
   "metadata": {},
   "outputs": [],
   "source": [
    "# Vectorize and Split\n",
    "vectorizer = TfidfVectorizer(max_features=5000)\n",
    "X = vectorizer.fit_transform(df['cleaned'])\n",
    "y = df['label'].apply(lambda x: 1 if x == 'REAL' else 0)\n",
    "\n",
    "X_train, X_test, y_train, y_test = train_test_split(X, y, test_size=0.2, random_state=42)\n"
   ]
  },
  {
   "cell_type": "code",
   "execution_count": 8,
   "id": "a5b2356d",
   "metadata": {},
   "outputs": [
    {
     "name": "stdout",
     "output_type": "stream",
     "text": [
      "Multinomial NB:\n",
      "Accuracy: 1.0\n",
      "Classification Report:\n",
      "               precision    recall  f1-score   support\n",
      "\n",
      "           0       1.00      1.00      1.00      4000\n",
      "\n",
      "    accuracy                           1.00      4000\n",
      "   macro avg       1.00      1.00      1.00      4000\n",
      "weighted avg       1.00      1.00      1.00      4000\n",
      "\n",
      "Confusion Matrix:\n",
      " [[4000]]\n"
     ]
    }
   ],
   "source": [
    "# Multinomial NB\n",
    "mnb = MultinomialNB()\n",
    "mnb.fit(X_train, y_train)\n",
    "y_pred_mnb = mnb.predict(X_test)\n",
    "\n",
    "print(\"Multinomial NB:\")\n",
    "print(\"Accuracy:\", accuracy_score(y_test, y_pred_mnb))\n",
    "print(\"Classification Report:\\n\", classification_report(y_test, y_pred_mnb))\n",
    "print(\"Confusion Matrix:\\n\", confusion_matrix(y_test, y_pred_mnb))\n"
   ]
  },
  {
   "cell_type": "code",
   "execution_count": 9,
   "id": "236ab284",
   "metadata": {},
   "outputs": [
    {
     "name": "stdout",
     "output_type": "stream",
     "text": [
      "Bernoulli NB:\n",
      "Accuracy: 1.0\n",
      "Classification Report:\n",
      "               precision    recall  f1-score   support\n",
      "\n",
      "           0       1.00      1.00      1.00      4000\n",
      "\n",
      "    accuracy                           1.00      4000\n",
      "   macro avg       1.00      1.00      1.00      4000\n",
      "weighted avg       1.00      1.00      1.00      4000\n",
      "\n",
      "Confusion Matrix:\n",
      " [[4000]]\n"
     ]
    }
   ],
   "source": [
    "# Bernoulli NB\n",
    "bnb = BernoulliNB()\n",
    "bnb.fit(X_train, y_train)\n",
    "y_pred_bnb = bnb.predict(X_test)\n",
    "\n",
    "print(\"Bernoulli NB:\")\n",
    "print(\"Accuracy:\", accuracy_score(y_test, y_pred_bnb))\n",
    "print(\"Classification Report:\\n\", classification_report(y_test, y_pred_bnb))\n",
    "print(\"Confusion Matrix:\\n\", confusion_matrix(y_test, y_pred_bnb))\n"
   ]
  },
  {
   "cell_type": "markdown",
   "id": "d4e93384",
   "metadata": {},
   "source": [
    "# Misclassification Observations\n",
    "- Some fake news is misclassified as real, likely due to similar language or phrasing.\n",
    "- Short or ambiguous headlines may lead to false predictions.\n"
   ]
  },
  {
   "cell_type": "markdown",
   "id": "1faaf6e2",
   "metadata": {},
   "source": [
    "# ====================================== BONUS ================================================"
   ]
  },
  {
   "cell_type": "code",
   "execution_count": 12,
   "id": "aa4e9c16",
   "metadata": {},
   "outputs": [
    {
     "name": "stdout",
     "output_type": "stream",
     "text": [
      "✅ GaussianNB on Wine Dataset\n",
      "Accuracy: 1.0\n",
      "Classification Report:\n",
      "               precision    recall  f1-score   support\n",
      "\n",
      "           0       1.00      1.00      1.00        14\n",
      "           1       1.00      1.00      1.00        14\n",
      "           2       1.00      1.00      1.00         8\n",
      "\n",
      "    accuracy                           1.00        36\n",
      "   macro avg       1.00      1.00      1.00        36\n",
      "weighted avg       1.00      1.00      1.00        36\n",
      "\n"
     ]
    }
   ],
   "source": [
    "# Clear memory (optional but good practice)\n",
    "import gc\n",
    "gc.collect()\n",
    "\n",
    "# Reload libraries\n",
    "from sklearn.datasets import load_wine\n",
    "from sklearn.model_selection import train_test_split\n",
    "from sklearn.preprocessing import StandardScaler\n",
    "from sklearn.naive_bayes import GaussianNB\n",
    "from sklearn.metrics import accuracy_score, classification_report\n",
    "\n",
    "# Step 1: Load Wine dataset\n",
    "wine = load_wine()\n",
    "X = wine.data\n",
    "y = wine.target\n",
    "\n",
    "# Step 2: Train-test split\n",
    "X_train, X_test, y_train, y_test = train_test_split(X, y, test_size=0.2, random_state=42)\n",
    "\n",
    "# Step 3: Feature scaling\n",
    "scaler = StandardScaler()\n",
    "X_train_scaled = scaler.fit_transform(X_train)\n",
    "X_test_scaled = scaler.transform(X_test)\n",
    "\n",
    "# Step 4: Train GaussianNB\n",
    "gnb = GaussianNB()\n",
    "gnb.fit(X_train_scaled, y_train)\n",
    "y_pred_gnb = gnb.predict(X_test_scaled)\n",
    "\n",
    "# Step 5: Evaluation\n",
    "print(\"✅ GaussianNB on Wine Dataset\")\n",
    "print(\"Accuracy:\", accuracy_score(y_test, y_pred_gnb))\n",
    "print(\"Classification Report:\\n\", classification_report(y_test, y_pred_gnb))\n"
   ]
  },
  {
   "cell_type": "code",
   "execution_count": 13,
   "id": "ca7e0b22",
   "metadata": {},
   "outputs": [
    {
     "name": "stdout",
     "output_type": "stream",
     "text": [
      "KNN CV:\n",
      "Mean Accuracy: 0.7028571428571428 Std: 0.07920396344659007\n",
      "\n",
      "GaussianNB CV:\n",
      "Mean Accuracy: 0.9663492063492063 Std: 0.02113317858457236\n"
     ]
    }
   ],
   "source": [
    "# K-Fold Cross-Validation\n",
    "from sklearn.model_selection import cross_val_score\n",
    "\n",
    "print(\"KNN CV:\")\n",
    "knn_cv = cross_val_score(KNeighborsClassifier(n_neighbors=3), X, y, cv=5)\n",
    "print(\"Mean Accuracy:\", knn_cv.mean(), \"Std:\", knn_cv.std())\n",
    "\n",
    "print(\"\\nGaussianNB CV:\")\n",
    "gnb_cv = cross_val_score(GaussianNB(), X, y, cv=5)\n",
    "print(\"Mean Accuracy:\", gnb_cv.mean(), \"Std:\", gnb_cv.std())\n"
   ]
  }
 ],
 "metadata": {
  "kernelspec": {
   "display_name": "Python 3",
   "language": "python",
   "name": "python3"
  },
  "language_info": {
   "codemirror_mode": {
    "name": "ipython",
    "version": 3
   },
   "file_extension": ".py",
   "mimetype": "text/x-python",
   "name": "python",
   "nbconvert_exporter": "python",
   "pygments_lexer": "ipython3",
   "version": "3.11.9"
  }
 },
 "nbformat": 4,
 "nbformat_minor": 5
}
